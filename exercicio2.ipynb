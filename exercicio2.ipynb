{
  "nbformat": 4,
  "nbformat_minor": 0,
  "metadata": {
    "colab": {
      "provenance": [],
      "authorship_tag": "ABX9TyMzn/SWJxD21tc5RsFZR+Bv",
      "include_colab_link": true
    },
    "kernelspec": {
      "name": "python3",
      "display_name": "Python 3"
    },
    "language_info": {
      "name": "python"
    }
  },
  "cells": [
    {
      "cell_type": "markdown",
      "metadata": {
        "id": "view-in-github",
        "colab_type": "text"
      },
      "source": [
        "<a href=\"https://colab.research.google.com/github/aqkarina-queiroz/estudos-dados/blob/main/exercicio2.ipynb\" target=\"_parent\"><img src=\"https://colab.research.google.com/assets/colab-badge.svg\" alt=\"Open In Colab\"/></a>"
      ]
    },
    {
      "cell_type": "code",
      "source": [
        "a = 15\n",
        "b = 7\n",
        "\n",
        "soma = a + b\n",
        "subtracao = a - b\n",
        "multiplicacao = a * b\n",
        "divisao = a / b\n",
        "divisao_inteira = a // b\n",
        "resto = a % b\n",
        "\n",
        "print(\"Número A:\", a)\n",
        "print(\"Número B:\", b)\n",
        "print(\"Soma:\", soma)\n",
        "print(\"Subtração:\", subtracao)\n",
        "print(\"Multiplicação:\", multiplicacao)\n",
        "print(\"Divisão:\", divisao)\n",
        "print(\"Divisão inteira:\", divisao_inteira)\n",
        "print(\"Resto da divisão:\", resto)"
      ],
      "metadata": {
        "colab": {
          "base_uri": "https://localhost:8080/"
        },
        "id": "sOsfuBtfTJkW",
        "outputId": "b07bcd39-2f0b-45a0-8f86-247affeb4c8a"
      },
      "execution_count": 1,
      "outputs": [
        {
          "output_type": "stream",
          "name": "stdout",
          "text": [
            "Número A: 15\n",
            "Número B: 7\n",
            "Soma: 22\n",
            "Subtração: 8\n",
            "Multiplicação: 105\n",
            "Divisão: 2.142857142857143\n",
            "Divisão inteira: 2\n",
            "Resto da divisão: 1\n"
          ]
        }
      ]
    }
  ]
}