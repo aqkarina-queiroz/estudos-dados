{
  "nbformat": 4,
  "nbformat_minor": 0,
  "metadata": {
    "colab": {
      "provenance": [],
      "authorship_tag": "ABX9TyNlwX3+IxEx9E7vvZUgP2za",
      "include_colab_link": true
    },
    "kernelspec": {
      "name": "python3",
      "display_name": "Python 3"
    },
    "language_info": {
      "name": "python"
    }
  },
  "cells": [
    {
      "cell_type": "markdown",
      "metadata": {
        "id": "view-in-github",
        "colab_type": "text"
      },
      "source": [
        "<a href=\"https://colab.research.google.com/github/aqkarina-queiroz/estudos-dados/blob/main/exercicio2.ipynb\" target=\"_parent\"><img src=\"https://colab.research.google.com/assets/colab-badge.svg\" alt=\"Open In Colab\"/></a>"
      ]
    },
    {
      "cell_type": "code",
      "source": [
        " a = 15\n",
        " b = 7\n",
        "\n",
        " soma = a + b\n",
        " subtracao = a - b\n",
        " multiplicacao = a * b\n",
        " divisao = a / b\n",
        " divisao_inteira = a // b\n",
        " resto = a % b\n",
        "\n",
        " print(\"Número A:\", a)"
      ],
      "metadata": {
        "colab": {
          "base_uri": "https://localhost:8080/"
        },
        "id": "0aBzLuePPlwz",
        "outputId": "9d7153a5-6e93-4a43-d025-58c4d8670c58"
      },
      "execution_count": 14,
      "outputs": [
        {
          "output_type": "stream",
          "name": "stdout",
          "text": [
            "Número A: 15\n"
          ]
        }
      ]
    },
    {
      "cell_type": "code",
      "execution_count": 15,
      "metadata": {
        "colab": {
          "base_uri": "https://localhost:8080/"
        },
        "id": "0kubfszVGE44",
        "outputId": "25637bc4-ac78-488f-830b-195abbd4a8d8"
      },
      "outputs": [
        {
          "output_type": "stream",
          "name": "stdout",
          "text": [
            "Número B: 7\n"
          ]
        }
      ],
      "source": [
        "print(\"Número B:\", b)"
      ]
    },
    {
      "cell_type": "code",
      "source": [
        "print(\"Soma:\", soma)"
      ],
      "metadata": {
        "colab": {
          "base_uri": "https://localhost:8080/"
        },
        "id": "yFu4PB0TQi5m",
        "outputId": "d54bec59-e646-4c72-c9c9-8d736448c2a0"
      },
      "execution_count": 16,
      "outputs": [
        {
          "output_type": "stream",
          "name": "stdout",
          "text": [
            "Soma: 22\n"
          ]
        }
      ]
    },
    {
      "cell_type": "code",
      "source": [
        "print(\"Subtração:\", subtracao)"
      ],
      "metadata": {
        "colab": {
          "base_uri": "https://localhost:8080/"
        },
        "id": "VWdIAjwGQpMb",
        "outputId": "73c04e78-5842-4df0-f51a-410f7b6b62ba"
      },
      "execution_count": 17,
      "outputs": [
        {
          "output_type": "stream",
          "name": "stdout",
          "text": [
            "Subtração: 8\n"
          ]
        }
      ]
    },
    {
      "cell_type": "code",
      "source": [
        "print(\"Multiplicação:\", multiplicacao)"
      ],
      "metadata": {
        "colab": {
          "base_uri": "https://localhost:8080/"
        },
        "id": "Ubi5_GjZQyuh",
        "outputId": "7c2dd2eb-c3e5-4d98-d2bb-4a43c45b9e14"
      },
      "execution_count": 18,
      "outputs": [
        {
          "output_type": "stream",
          "name": "stdout",
          "text": [
            "Multiplicação: 105\n"
          ]
        }
      ]
    },
    {
      "cell_type": "code",
      "source": [
        "print(\"Divisão:\", divisao)"
      ],
      "metadata": {
        "colab": {
          "base_uri": "https://localhost:8080/"
        },
        "id": "fwpHWiV4Q7FS",
        "outputId": "89fb9422-1d66-4672-9d33-12a8e2802ed5"
      },
      "execution_count": 19,
      "outputs": [
        {
          "output_type": "stream",
          "name": "stdout",
          "text": [
            "Divisão: 2.142857142857143\n"
          ]
        }
      ]
    },
    {
      "cell_type": "code",
      "source": [
        "print(\"Resto da divisão:\", resto)"
      ],
      "metadata": {
        "colab": {
          "base_uri": "https://localhost:8080/"
        },
        "id": "eeu_Nen_RsR8",
        "outputId": "104c8fbe-f15c-4ef1-b4ed-c3e8662cc56f"
      },
      "execution_count": 20,
      "outputs": [
        {
          "output_type": "stream",
          "name": "stdout",
          "text": [
            "Resto da divisão: 1\n"
          ]
        }
      ]
    }
  ]
}